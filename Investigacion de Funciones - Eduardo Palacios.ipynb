{
 "cells": [
  {
   "cell_type": "markdown",
   "metadata": {},
   "source": [
    "# Nombre: Eduardo Palacios\n",
    "\n",
    "## Investigación funciones en Python\n",
    "\n",
    "\n",
    "Funciones: Tambien llamadas sub-rutinas, procedimientos o metodos en otros lenguajes, esta tarea consiste en investigar:\n",
    "\n",
    "1)Funciones en Python: Una funcion es un bloque de codigo que realiza una tarea especifica. Para ello recibe uno o mas parametros y da uno o mas resultados de la operacion. \n",
    "\n",
    "Ejemplo:\n",
    "def funcion_Eduardo():\n",
    "print \"Tarea de Maestria\"\n",
    "\n",
    "2)Parametros posicionales: Se refiere a los parametros indicados al definir la funcion, y que se asignan dependiendo de la posicion al definirlos, en el ejemplo de abajo serian x y y.\n",
    "\n",
    "Ejemplo:\n",
    "def es_menor(x,y):\n",
    "return x<y\n",
    "es_menor(3,5) True\n",
    "\n",
    "3)Parametros nombrados: Se refiere a que podemos mezclar el orden de los parametros si indicamos su nombre.\n",
    "\n",
    "Ejemplo:\n",
    "def funcion_nombre (nombre=\"Eduardo\", apellido=\"Palacios\"):\n",
    "print(apellido, nombre)\n",
    "\n",
    "4)Retorno de multiples valores: Una funcion puede devolver multiples valores, independientemente del numero de parametros.\n",
    "\n",
    "Ejemplo:\n",
    "def aHsMinSeg (x): \"\"\" Dada una duración en segundos sin fracciones (la función debe invocarse con números enteros) se la convierte a horas, minutos y segundos \"\"\" hs = x / 3600 min = (x % 3600) / 60 seg = (x % 3600 ) % 60 return (hs, min, seg)\n",
    "\n",
    "5)Funciones como objetos y como parametros de otras funciones:\n",
    "\n",
    "Las funciones se comportan como objetos, y tienen propiedades como tales.\n",
    "\n",
    "Tambien se pueden usar funciones como parametros de otras funciones.\n",
    "\n",
    "Ejemplo:\n",
    "def nombre (nombre=Eduardo, apellido=Palacios)\n",
    "def Alumno(nombre, sexo=Masculino)\n",
    "\n",
    "6)Funciones anonimas o lambda: Una función lambda se usa cuando queremos enviar a una función de orden superior directamente una función anónima.\n",
    "\n",
    "Ejemplo: a = [0, 1, -1, -2, 3, -4, 5, 6, 7] b = filter(lambda x: x > 0, a)\n",
    "print(b) \n",
    "[1, 3, 5, 6, 7]"
   ]
  }
 ],
 "metadata": {
  "kernelspec": {
   "display_name": "Python 3",
   "language": "python",
   "name": "python3"
  },
  "language_info": {
   "codemirror_mode": {
    "name": "ipython",
    "version": 3
   },
   "file_extension": ".py",
   "mimetype": "text/x-python",
   "name": "python",
   "nbconvert_exporter": "python",
   "pygments_lexer": "ipython3",
   "version": "3.7.2"
  }
 },
 "nbformat": 4,
 "nbformat_minor": 2
}
